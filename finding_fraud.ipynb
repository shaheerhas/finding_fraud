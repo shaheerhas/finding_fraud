{
  "nbformat": 4,
  "nbformat_minor": 0,
  "metadata": {
    "colab": {
      "name": "finding_fraud.ipynb",
      "provenance": []
    },
    "kernelspec": {
      "name": "python3",
      "display_name": "Python 3"
    }
  },
  "cells": [
    {
      "cell_type": "code",
      "metadata": {
        "id": "mfT1tnNEUMFZ",
        "colab_type": "code",
        "colab": {
          "base_uri": "https://localhost:8080/",
          "height": 34
        },
        "outputId": "a9558aa8-1c44-4fcf-d75c-bdd0fd2fb47a"
      },
      "source": [
        "import numpy as np\n",
        "import pandas as pd\n",
        "print(\"A\")"
      ],
      "execution_count": 69,
      "outputs": [
        {
          "output_type": "stream",
          "text": [
            "A\n"
          ],
          "name": "stdout"
        }
      ]
    },
    {
      "cell_type": "code",
      "metadata": {
        "id": "nj1exgXpWcEN",
        "colab_type": "code",
        "colab": {
          "base_uri": "https://localhost:8080/",
          "height": 54
        },
        "outputId": "9a599554-3976-4e00-839f-bdc162b647fd"
      },
      "source": [
        "from google.colab import drive\n",
        "drive.mount('/content/drive')"
      ],
      "execution_count": 70,
      "outputs": [
        {
          "output_type": "stream",
          "text": [
            "Drive already mounted at /content/drive; to attempt to forcibly remount, call drive.mount(\"/content/drive\", force_remount=True).\n"
          ],
          "name": "stdout"
        }
      ]
    },
    {
      "cell_type": "code",
      "metadata": {
        "id": "YzKBge2NU_01",
        "colab_type": "code",
        "colab": {}
      },
      "source": [
        "transactions = pd.read_csv(\"/content/drive/My Drive/transactions.csv\")\n",
        "fraudsters = pd.read_csv(\"/content/drive/My Drive/fraudsters.csv\")"
      ],
      "execution_count": 71,
      "outputs": []
    },
    {
      "cell_type": "code",
      "metadata": {
        "id": "MeJioe_bVCZz",
        "colab_type": "code",
        "colab": {}
      },
      "source": [
        "rows = []\n",
        "transactions[\"is_fraudulent\"] = 0\n",
        "#for i,row in fraudsters.iterrows():\n",
        "    #print(row['user_id'].dtype,transactions['USER_ID'].dtype)\n",
        "    #transactions[ transactions.USER_ID == row[\"user_id\"] ]\n",
        "for i,row in fraudsters.iterrows():\n",
        "    transactions.loc[ transactions.USER_ID == row[\"user_id\"], \"is_fraudulent\" ] = 1"
      ],
      "execution_count": 72,
      "outputs": []
    },
    {
      "cell_type": "code",
      "metadata": {
        "id": "I2LGG-tKVEes",
        "colab_type": "code",
        "colab": {}
      },
      "source": [
        "from sklearn.utils import shuffle\n",
        "df = shuffle(transactions.copy())\n",
        "columns = list(df.columns)\n",
        "columns[0] = 'Unnamed_0'\n",
        "df.columns = columns"
      ],
      "execution_count": 73,
      "outputs": []
    },
    {
      "cell_type": "code",
      "metadata": {
        "id": "4AR59m9eVFKR",
        "colab_type": "code",
        "colab": {
          "base_uri": "https://localhost:8080/",
          "height": 68
        },
        "outputId": "56e078b9-e717-4b9f-8e09-731307d538bf"
      },
      "source": [
        "df = df.drop([\"Unnamed_0\",\"CURRENCY\",\"CREATED_DATE\"],axis=1)\n",
        "data= np.array(df.copy())\n",
        "untransformed_data = data.copy()\n",
        "print (data.shape)\n",
        "data = data.astype(str)\n",
        "from sklearn import preprocessing\n",
        "le = preprocessing.LabelEncoder()\n",
        "for i in range(data.shape[1] -1):\n",
        "    data[:,i] = le.fit_transform(data[:,i])\n",
        "X = data[:,:-1]\n",
        "y = data[:,-1]\n",
        "print(X.shape)\n",
        "print(y.shape)"
      ],
      "execution_count": 74,
      "outputs": [
        {
          "output_type": "stream",
          "text": [
            "(688651, 10)\n",
            "(688651, 9)\n",
            "(688651,)\n"
          ],
          "name": "stdout"
        }
      ]
    },
    {
      "cell_type": "code",
      "metadata": {
        "id": "di_UPHk0VJqC",
        "colab_type": "code",
        "colab": {}
      },
      "source": [
        "Xtrain, Xtest, Xvalidate  = np.split(X, [int(.7*len(X)), int(.8*len(X))])\n",
        "\n",
        "ytrain, ytest, yvalidate  = np.split(y, [int(.7*len(y)), int(.8*len(y))])"
      ],
      "execution_count": 75,
      "outputs": []
    },
    {
      "cell_type": "code",
      "metadata": {
        "id": "W-vL0rRHhqZp",
        "colab_type": "code",
        "colab": {
          "base_uri": "https://localhost:8080/",
          "height": 221
        },
        "outputId": "0caa793e-813e-475b-ab5d-eb5257cfb852"
      },
      "source": [
        "print(Xtrain.shape)\n",
        "print(Xvalidate.shape)\n",
        "print(Xtest.shape)\n",
        "print()\n",
        "print(ytrain.shape)\n",
        "print(yvalidate.shape)\n",
        "print(ytest.shape)\n",
        "print('\\n', X.shape)\n",
        "\n",
        "Xtest_start_idx = Xtrain.shape[0] \n",
        "Xtest_end_idx = Xtest_start_idx + Xtest.shape[0] - 1\n",
        "print(Xtest_start_idx)\n",
        "print(Xtest_end_idx)\n",
        "Xtest_end_idx - Xtest_start_idx"
      ],
      "execution_count": 76,
      "outputs": [
        {
          "output_type": "stream",
          "text": [
            "(482055, 9)\n",
            "(137731, 9)\n",
            "(68865, 9)\n",
            "\n",
            "(482055,)\n",
            "(137731,)\n",
            "(68865,)\n",
            "\n",
            " (688651, 9)\n",
            "482055\n",
            "550919\n"
          ],
          "name": "stdout"
        },
        {
          "output_type": "execute_result",
          "data": {
            "text/plain": [
              "68864"
            ]
          },
          "metadata": {
            "tags": []
          },
          "execution_count": 76
        }
      ]
    },
    {
      "cell_type": "code",
      "metadata": {
        "id": "dZuTo5u3VL6p",
        "colab_type": "code",
        "colab": {}
      },
      "source": [
        "from sklearn import tree\n",
        "clf = tree.DecisionTreeClassifier()\n",
        "clf = clf.fit(Xtrain, ytrain)"
      ],
      "execution_count": 77,
      "outputs": []
    },
    {
      "cell_type": "code",
      "metadata": {
        "id": "P2A8ECv5ZGZr",
        "colab_type": "code",
        "colab": {}
      },
      "source": [
        "from sklearn.tree import _tree\n",
        "\n",
        "def tree_to_code(tree, feature_names):\n",
        "    s=[]\n",
        "    tree_ = tree.tree_\n",
        "    feature_name = [\n",
        "        feature_names[i] if i != _tree.TREE_UNDEFINED else \"undefined!\"\n",
        "        for i in tree_.feature\n",
        "    ]\n",
        "    print (\"def tree({}):\".format(\", \".join(feature_names)))\n",
        "   \n",
        "    def recurse(node, depth):\n",
        "\n",
        "        indent = \"  \" * depth\n",
        "        if tree_.feature[node] != _tree.TREE_UNDEFINED:\n",
        "            name = feature_name[node]\n",
        "            threshold = tree_.threshold[node]\n",
        "            print (\"{}if {} <= {}:\".format(indent, name, threshold))\n",
        "            s.append(indent + name + str(threshold))\n",
        "            recurse(tree_.children_left[node], depth + 1)\n",
        "            print (\"{}else:  # if {} > {}\".format(indent, name, threshold))\n",
        "            s.append(indent + name + str(threshold))\n",
        "            recurse(tree_.children_right[node], depth + 1)\n",
        "        else:\n",
        "            print (\"{}return {}\".format(indent, tree_.value[node]))\n",
        "            s.append(indent + name + str(threshold))\n",
        "    recurse(0, 1)\n",
        "    return s\n",
        "    "
      ],
      "execution_count": 78,
      "outputs": []
    },
    {
      "cell_type": "code",
      "metadata": {
        "id": "42ww5jKcVN3a",
        "colab_type": "code",
        "colab": {
          "base_uri": "https://localhost:8080/",
          "height": 52
        },
        "outputId": "5bd4117f-1082-4251-89ad-5539104467a6"
      },
      "source": [
        "'''from sklearn.tree import export_graphviz\n",
        "export_graphviz(clf, 'tree.dot')\n",
        "import pydot\n",
        "(graph,) = pydot.graph_from_dot_file('tree.dot')\n",
        "graph.write_png('tree.png')'''"
      ],
      "execution_count": 79,
      "outputs": [
        {
          "output_type": "execute_result",
          "data": {
            "application/vnd.google.colaboratory.intrinsic+json": {
              "type": "string"
            },
            "text/plain": [
              "\"from sklearn.tree import export_graphviz\\nexport_graphviz(clf, 'tree.dot')\\nimport pydot\\n(graph,) = pydot.graph_from_dot_file('tree.dot')\\ngraph.write_png('tree.png')\""
            ]
          },
          "metadata": {
            "tags": []
          },
          "execution_count": 79
        }
      ]
    },
    {
      "cell_type": "code",
      "metadata": {
        "id": "lQ0UDs0ldG_s",
        "colab_type": "code",
        "colab": {}
      },
      "source": [
        "res1 = clf.predict(Xtest)"
      ],
      "execution_count": 80,
      "outputs": []
    },
    {
      "cell_type": "code",
      "metadata": {
        "id": "z5D64KtLZQHU",
        "colab_type": "code",
        "colab": {
          "base_uri": "https://localhost:8080/",
          "height": 187
        },
        "outputId": "5174b1a1-89b0-411a-f0c7-dc74dbf870cb"
      },
      "source": [
        "from sklearn.metrics import classification_report\n",
        "print(\"DECISION TREE\")\n",
        "print(classification_report(ytest, res1))"
      ],
      "execution_count": 81,
      "outputs": [
        {
          "output_type": "stream",
          "text": [
            "DECISION TREE\n",
            "              precision    recall  f1-score   support\n",
            "\n",
            "           0       1.00      0.99      1.00     67262\n",
            "           1       0.79      0.79      0.79      1603\n",
            "\n",
            "    accuracy                           0.99     68865\n",
            "   macro avg       0.89      0.89      0.89     68865\n",
            "weighted avg       0.99      0.99      0.99     68865\n",
            "\n"
          ],
          "name": "stdout"
        }
      ]
    },
    {
      "cell_type": "code",
      "metadata": {
        "id": "QOw8hRKqd0wl",
        "colab_type": "code",
        "colab": {}
      },
      "source": [
        "from sklearn.ensemble import RandomForestClassifier\n",
        "rf = RandomForestClassifier(n_estimators=10,n_jobs=-1,random_state=99)\n",
        "rf = rf.fit(Xtrain, ytrain)\n",
        "res = np.array(rf.predict(Xvalidate))"
      ],
      "execution_count": 82,
      "outputs": []
    },
    {
      "cell_type": "code",
      "metadata": {
        "id": "GSMERfYNd5dk",
        "colab_type": "code",
        "colab": {
          "base_uri": "https://localhost:8080/",
          "height": 51
        },
        "outputId": "981afd91-2250-4a7f-907e-4e0583e23b16"
      },
      "source": [
        "print (Xvalidate.shape)\n",
        "data[3]\n",
        "from collections import Counter\n",
        "c = Counter(res)\n",
        "c"
      ],
      "execution_count": 83,
      "outputs": [
        {
          "output_type": "stream",
          "text": [
            "(137731, 9)\n"
          ],
          "name": "stdout"
        },
        {
          "output_type": "execute_result",
          "data": {
            "text/plain": [
              "Counter({'0': 136107, '1': 1624})"
            ]
          },
          "metadata": {
            "tags": []
          },
          "execution_count": 83
        }
      ]
    },
    {
      "cell_type": "code",
      "metadata": {
        "id": "R5znjJDqd7s7",
        "colab_type": "code",
        "colab": {}
      },
      "source": [
        "res_test = rf.predict(Xtest)"
      ],
      "execution_count": 84,
      "outputs": []
    },
    {
      "cell_type": "code",
      "metadata": {
        "id": "wB6zAuMzePcF",
        "colab_type": "code",
        "colab": {
          "base_uri": "https://localhost:8080/",
          "height": 187
        },
        "outputId": "09838d41-bcc4-4e77-8e8e-1b467766bbe1"
      },
      "source": [
        "from sklearn.metrics import classification_report\n",
        "print(\"RANDOM FOREST\")\n",
        "print(classification_report(yvalidate, res))"
      ],
      "execution_count": 85,
      "outputs": [
        {
          "output_type": "stream",
          "text": [
            "RANDOM FOREST\n",
            "              precision    recall  f1-score   support\n",
            "\n",
            "           0       0.99      1.00      0.99    134561\n",
            "           1       0.90      0.46      0.61      3170\n",
            "\n",
            "    accuracy                           0.99    137731\n",
            "   macro avg       0.94      0.73      0.80    137731\n",
            "weighted avg       0.99      0.99      0.98    137731\n",
            "\n"
          ],
          "name": "stdout"
        }
      ]
    },
    {
      "cell_type": "code",
      "metadata": {
        "id": "zuufgn9reUNF",
        "colab_type": "code",
        "colab": {
          "base_uri": "https://localhost:8080/",
          "height": 170
        },
        "outputId": "3f794310-57fe-4504-b321-790dfa786897"
      },
      "source": [
        "print(classification_report(ytest, res_test))"
      ],
      "execution_count": 86,
      "outputs": [
        {
          "output_type": "stream",
          "text": [
            "              precision    recall  f1-score   support\n",
            "\n",
            "           0       0.99      1.00      0.99     67262\n",
            "           1       0.90      0.44      0.59      1603\n",
            "\n",
            "    accuracy                           0.99     68865\n",
            "   macro avg       0.94      0.72      0.79     68865\n",
            "weighted avg       0.98      0.99      0.98     68865\n",
            "\n"
          ],
          "name": "stdout"
        }
      ]
    },
    {
      "cell_type": "code",
      "metadata": {
        "id": "ponsUW1TeX1G",
        "colab_type": "code",
        "colab": {
          "base_uri": "https://localhost:8080/",
          "height": 85
        },
        "outputId": "db6b8446-0a89-4d61-fa79-38e01109d3ec"
      },
      "source": [
        "users = pd.read_csv(\"/content/drive/My Drive/users.csv\")\n",
        "users.head(3)\n",
        "user_ids = users[\"ID\"]\n",
        "Xtest[0] , X[ Xtest_start_idx ]\n",
        "Xtest[-1] , X[ Xtest_end_idx]"
      ],
      "execution_count": 87,
      "outputs": [
        {
          "output_type": "execute_result",
          "data": {
            "text/plain": [
              "(array(['29960', '2', '13', '187', '1', '4074', '2', '3', '449816'],\n",
              "       dtype='<U89'),\n",
              " array(['29960', '2', '13', '187', '1', '4074', '2', '3', '449816'],\n",
              "       dtype='<U89'))"
            ]
          },
          "metadata": {
            "tags": []
          },
          "execution_count": 87
        }
      ]
    },
    {
      "cell_type": "code",
      "metadata": {
        "id": "_Tpspvkwekx3",
        "colab_type": "code",
        "colab": {}
      },
      "source": [
        "i = 0\n",
        "new_fraudsters = []\n",
        "old_fraudsters = list(fraudsters[\"user_id\"])\n",
        "for j in range(Xtest_start_idx,Xtest_end_idx):\n",
        "    if( (res_test[i] == 1 or res_test[i] == '1') and untransformed_data[j][5] not in old_fraudsters ):\n",
        "        #print(untransformed_data[j][8],res_test[i])\n",
        "        new_fraudsters.append( untransformed_data[j][5])\n",
        "    i+=1"
      ],
      "execution_count": 88,
      "outputs": []
    },
    {
      "cell_type": "code",
      "metadata": {
        "id": "TucfFQWKencN",
        "colab_type": "code",
        "colab": {
          "base_uri": "https://localhost:8080/",
          "height": 906
        },
        "outputId": "f20e5ab6-302e-4dac-ef84-5d368dceee32"
      },
      "source": [
        "users_ = pd.DataFrame(columns=users.columns)\n",
        "#Five fraudsters from new list of fraudsters\n",
        "for i in range(0,10):\n",
        "    #print(( users[users.ID == new_fraudsters[i]]) )\n",
        "    users_ = pd.concat([users_,users[users.ID == new_fraudsters[i]]],axis=0 )\n",
        "users_"
      ],
      "execution_count": 89,
      "outputs": [
        {
          "output_type": "execute_result",
          "data": {
            "text/html": [
              "<div>\n",
              "<style scoped>\n",
              "    .dataframe tbody tr th:only-of-type {\n",
              "        vertical-align: middle;\n",
              "    }\n",
              "\n",
              "    .dataframe tbody tr th {\n",
              "        vertical-align: top;\n",
              "    }\n",
              "\n",
              "    .dataframe thead th {\n",
              "        text-align: right;\n",
              "    }\n",
              "</style>\n",
              "<table border=\"1\" class=\"dataframe\">\n",
              "  <thead>\n",
              "    <tr style=\"text-align: right;\">\n",
              "      <th></th>\n",
              "      <th>Unnamed: 0</th>\n",
              "      <th>FAILED_SIGN_IN_ATTEMPTS</th>\n",
              "      <th>KYC</th>\n",
              "      <th>BIRTH_YEAR</th>\n",
              "      <th>COUNTRY</th>\n",
              "      <th>STATE</th>\n",
              "      <th>CREATED_DATE</th>\n",
              "      <th>TERMS_VERSION</th>\n",
              "      <th>PHONE_COUNTRY</th>\n",
              "      <th>HAS_EMAIL</th>\n",
              "      <th>ID</th>\n",
              "    </tr>\n",
              "  </thead>\n",
              "  <tbody>\n",
              "    <tr>\n",
              "      <th>2745</th>\n",
              "      <td>2745</td>\n",
              "      <td>0</td>\n",
              "      <td>PASSED</td>\n",
              "      <td>1985</td>\n",
              "      <td>GB</td>\n",
              "      <td>ACTIVE</td>\n",
              "      <td>19:26.7</td>\n",
              "      <td>5/25/2018</td>\n",
              "      <td>GB||JE||IM||GG</td>\n",
              "      <td>1</td>\n",
              "      <td>e56c66d2-b13c-4440-a496-3b25c96e18de</td>\n",
              "    </tr>\n",
              "    <tr>\n",
              "      <th>841</th>\n",
              "      <td>841</td>\n",
              "      <td>0</td>\n",
              "      <td>NONE</td>\n",
              "      <td>1990</td>\n",
              "      <td>FR</td>\n",
              "      <td>ACTIVE</td>\n",
              "      <td>31:52.2</td>\n",
              "      <td>NaN</td>\n",
              "      <td>FR</td>\n",
              "      <td>1</td>\n",
              "      <td>cb1ea2ae-8157-4df0-af71-c7107abdd66e</td>\n",
              "    </tr>\n",
              "    <tr>\n",
              "      <th>664</th>\n",
              "      <td>664</td>\n",
              "      <td>0</td>\n",
              "      <td>PASSED</td>\n",
              "      <td>1980</td>\n",
              "      <td>GB</td>\n",
              "      <td>ACTIVE</td>\n",
              "      <td>03:47.9</td>\n",
              "      <td>9/20/2018</td>\n",
              "      <td>GB||JE||IM||GG</td>\n",
              "      <td>1</td>\n",
              "      <td>543da93b-03eb-40f3-a6c8-f099d8b1857e</td>\n",
              "    </tr>\n",
              "    <tr>\n",
              "      <th>6126</th>\n",
              "      <td>6126</td>\n",
              "      <td>0</td>\n",
              "      <td>PASSED</td>\n",
              "      <td>1995</td>\n",
              "      <td>GB</td>\n",
              "      <td>ACTIVE</td>\n",
              "      <td>22:07.6</td>\n",
              "      <td>1/16/2017</td>\n",
              "      <td>GB||JE||IM||GG</td>\n",
              "      <td>1</td>\n",
              "      <td>88ad610e-2162-46e8-b2be-4bd4f9e753bb</td>\n",
              "    </tr>\n",
              "    <tr>\n",
              "      <th>37</th>\n",
              "      <td>37</td>\n",
              "      <td>0</td>\n",
              "      <td>PASSED</td>\n",
              "      <td>1988</td>\n",
              "      <td>GB</td>\n",
              "      <td>ACTIVE</td>\n",
              "      <td>36:38.7</td>\n",
              "      <td>9/20/2018</td>\n",
              "      <td>GB||JE||IM||GG</td>\n",
              "      <td>1</td>\n",
              "      <td>6da7dc35-ab4a-4bb1-9bce-69c4995cac96</td>\n",
              "    </tr>\n",
              "    <tr>\n",
              "      <th>7328</th>\n",
              "      <td>7328</td>\n",
              "      <td>0</td>\n",
              "      <td>PASSED</td>\n",
              "      <td>1943</td>\n",
              "      <td>GB</td>\n",
              "      <td>ACTIVE</td>\n",
              "      <td>41:19.9</td>\n",
              "      <td>5/25/2018</td>\n",
              "      <td>GB||JE||IM||GG</td>\n",
              "      <td>1</td>\n",
              "      <td>3c4e712e-06bc-485b-90e1-98ef632bb118</td>\n",
              "    </tr>\n",
              "    <tr>\n",
              "      <th>1244</th>\n",
              "      <td>1244</td>\n",
              "      <td>0</td>\n",
              "      <td>PASSED</td>\n",
              "      <td>1994</td>\n",
              "      <td>GB</td>\n",
              "      <td>ACTIVE</td>\n",
              "      <td>30:08.3</td>\n",
              "      <td>9/20/2018</td>\n",
              "      <td>GB||JE||IM||GG</td>\n",
              "      <td>1</td>\n",
              "      <td>fc89a174-cceb-4df2-b04a-4615b01d22cc</td>\n",
              "    </tr>\n",
              "    <tr>\n",
              "      <th>8972</th>\n",
              "      <td>9171</td>\n",
              "      <td>0</td>\n",
              "      <td>PASSED</td>\n",
              "      <td>1971</td>\n",
              "      <td>GB</td>\n",
              "      <td>ACTIVE</td>\n",
              "      <td>52:05.6</td>\n",
              "      <td>9/20/2018</td>\n",
              "      <td>GB||JE||IM||GG</td>\n",
              "      <td>1</td>\n",
              "      <td>50552988-e421-4a57-ba08-2f7f9dc6cae4</td>\n",
              "    </tr>\n",
              "    <tr>\n",
              "      <th>2516</th>\n",
              "      <td>2516</td>\n",
              "      <td>0</td>\n",
              "      <td>PASSED</td>\n",
              "      <td>1987</td>\n",
              "      <td>GB</td>\n",
              "      <td>ACTIVE</td>\n",
              "      <td>12:26.4</td>\n",
              "      <td>5/25/2018</td>\n",
              "      <td>GB||JE||IM||GG</td>\n",
              "      <td>1</td>\n",
              "      <td>2ef06148-89e7-455c-9757-8ab0be46468b</td>\n",
              "    </tr>\n",
              "    <tr>\n",
              "      <th>2995</th>\n",
              "      <td>2995</td>\n",
              "      <td>0</td>\n",
              "      <td>PASSED</td>\n",
              "      <td>1987</td>\n",
              "      <td>BG</td>\n",
              "      <td>ACTIVE</td>\n",
              "      <td>21:53.5</td>\n",
              "      <td>9/20/2018</td>\n",
              "      <td>BG</td>\n",
              "      <td>1</td>\n",
              "      <td>5a78a1dd-4896-49bf-b2cd-8ab0d1572e2b</td>\n",
              "    </tr>\n",
              "  </tbody>\n",
              "</table>\n",
              "</div>"
            ],
            "text/plain": [
              "     Unnamed: 0  ...                                    ID\n",
              "2745       2745  ...  e56c66d2-b13c-4440-a496-3b25c96e18de\n",
              "841         841  ...  cb1ea2ae-8157-4df0-af71-c7107abdd66e\n",
              "664         664  ...  543da93b-03eb-40f3-a6c8-f099d8b1857e\n",
              "6126       6126  ...  88ad610e-2162-46e8-b2be-4bd4f9e753bb\n",
              "37           37  ...  6da7dc35-ab4a-4bb1-9bce-69c4995cac96\n",
              "7328       7328  ...  3c4e712e-06bc-485b-90e1-98ef632bb118\n",
              "1244       1244  ...  fc89a174-cceb-4df2-b04a-4615b01d22cc\n",
              "8972       9171  ...  50552988-e421-4a57-ba08-2f7f9dc6cae4\n",
              "2516       2516  ...  2ef06148-89e7-455c-9757-8ab0be46468b\n",
              "2995       2995  ...  5a78a1dd-4896-49bf-b2cd-8ab0d1572e2b\n",
              "\n",
              "[10 rows x 11 columns]"
            ]
          },
          "metadata": {
            "tags": []
          },
          "execution_count": 89
        }
      ]
    },
    {
      "cell_type": "code",
      "metadata": {
        "id": "dDCay90LepK9",
        "colab_type": "code",
        "colab": {}
      },
      "source": [
        "users_.to_csv(\"Task2 (new fraudsters).csv\")"
      ],
      "execution_count": 90,
      "outputs": []
    },
    {
      "cell_type": "code",
      "metadata": {
        "id": "fUFEJD1Ieq6N",
        "colab_type": "code",
        "colab": {}
      },
      "source": [
        "currency_details = pd.read_csv(\"/content/drive/My Drive/currency_details.csv\")\n",
        "fx_rates = pd.read_csv(\"/content/drive/My Drive/fx_rates.csv\")"
      ],
      "execution_count": 33,
      "outputs": []
    },
    {
      "cell_type": "code",
      "metadata": {
        "id": "aTqgnw_Wetqz",
        "colab_type": "code",
        "colab": {}
      },
      "source": [
        "currency_exp = {}\n",
        "for i,row in currency_details.iterrows():\n",
        "    currency_exp.update({row[\"currency\"]: row[\"exponent\"]})"
      ],
      "execution_count": 34,
      "outputs": []
    },
    {
      "cell_type": "code",
      "metadata": {
        "id": "2pnZxu6Devi8",
        "colab_type": "code",
        "colab": {}
      },
      "source": [
        "base = list(np.unique(fx_rates.base_ccy))\n",
        "currency_convert = {key:{} for key in base}\n",
        "for i in base:\n",
        "    for j,row in fx_rates.iterrows():\n",
        "        currency_convert[i].update({row[\"ccy\"]:row[\"rate\"]})\n",
        "        "
      ],
      "execution_count": 35,
      "outputs": []
    },
    {
      "cell_type": "code",
      "metadata": {
        "id": "_v70I5kmexT1",
        "colab_type": "code",
        "colab": {
          "base_uri": "https://localhost:8080/",
          "height": 168
        },
        "outputId": "46dab2f3-cab7-4065-b10d-02cca963f635"
      },
      "source": [
        "users_gt = pd.DataFrame(columns = users.columns)\n",
        "user_id = []\n",
        "#transaction[ transaction[\"CURRENCY\"] * ]\n",
        "cur = np.unique( transactions[\"CURRENCY\"])\n",
        "\n",
        "for i in cur:\n",
        "  sub_exp = currency_details[ currency_details [\"currency\"] ==  i][\"exponent\"].iloc[0]\n",
        "  #print(sub_exp)\n",
        "  sub_trans = transactions[transactions[\"CURRENCY\"] == i].copy()\n",
        "  #display(sub_trans)\n",
        "  users_u = np.unique(sub_trans[\"USER_ID\"])\n",
        "  #display(users_u)\n",
        "  \n",
        "  for j in users_u:\n",
        "    co_user = sub_trans[sub_trans.USER_ID == j].head(1)\n",
        "    #\n",
        "    if i != \"USD\":\n",
        "      rates_usd = fx_rates[fx_rates[\"base_ccy\"] == \"USD\"].copy()\n",
        "      rate = rates_usd[rates_usd[\"ccy\"] == i][\"rate\"]\n",
        "      #display(rate.iloc[0])\n",
        "      co_user[\"AMOUNT\"] = co_user[\"AMOUNT\"] * rate.iloc[0]\n",
        "    co_user[\"AMOUNT\"] = co_user[\"AMOUNT\"] / 10 ** sub_exp\n",
        "    #display(co_user)\n",
        "    user_id = co_user.query(\"AMOUNT>10 and TYPE == 'CARD_PAYMENT' and STATE == 'COMPLETED'\")[\"USER_ID\"]\n",
        "    if(len(user_id)>0):\n",
        "      user_i = user_id.iloc[0]\n",
        "    #print(type(users.ID),type(user_i))\n",
        "    users_gt = pd.concat([users_,users[ users.ID == user_i  ] ],axis=0 )\n",
        "\n",
        "\n",
        "\n",
        "'''\n",
        "\n",
        "transaction[ transaction[\"CURRENCY\"] * ]\n",
        "\n",
        "for i,row in transactions.iterrows():\n",
        "\n",
        "    currency = row[\"CURRENCY\"]\n",
        "    factor = currency_exp[currency]\n",
        "    amount = row[\"AMOUNT\"]\n",
        "    if (currency != \"USD\"):\n",
        "        rate = currency_convert[\"USD\"][currency]\n",
        "        amount = amount * rate\n",
        "    current_amount = amount / 10**factor\n",
        "    if (current_amount > 10):\n",
        "        if (row[\"TYPE\"] == \"CARD_PAYMENT\" and row[\"STATE\"] == \"COMPLETED\" and row[\"USER_ID\"] not in user_id  ):\n",
        "            users_gt = pd.concat([users_,users[users.ID == row[\"USER_ID\"]  ] ],axis=0 )\n",
        "            user_id.append(row[\"USER_ID\"])'''\n",
        "users_gt"
      ],
      "execution_count": 61,
      "outputs": [
        {
          "output_type": "execute_result",
          "data": {
            "text/html": [
              "<div>\n",
              "<style scoped>\n",
              "    .dataframe tbody tr th:only-of-type {\n",
              "        vertical-align: middle;\n",
              "    }\n",
              "\n",
              "    .dataframe tbody tr th {\n",
              "        vertical-align: top;\n",
              "    }\n",
              "\n",
              "    .dataframe thead th {\n",
              "        text-align: right;\n",
              "    }\n",
              "</style>\n",
              "<table border=\"1\" class=\"dataframe\">\n",
              "  <thead>\n",
              "    <tr style=\"text-align: right;\">\n",
              "      <th></th>\n",
              "      <th>Unnamed: 0</th>\n",
              "      <th>FAILED_SIGN_IN_ATTEMPTS</th>\n",
              "      <th>KYC</th>\n",
              "      <th>BIRTH_YEAR</th>\n",
              "      <th>COUNTRY</th>\n",
              "      <th>STATE</th>\n",
              "      <th>CREATED_DATE</th>\n",
              "      <th>TERMS_VERSION</th>\n",
              "      <th>PHONE_COUNTRY</th>\n",
              "      <th>HAS_EMAIL</th>\n",
              "      <th>ID</th>\n",
              "    </tr>\n",
              "  </thead>\n",
              "  <tbody>\n",
              "    <tr>\n",
              "      <th>870</th>\n",
              "      <td>870</td>\n",
              "      <td>0</td>\n",
              "      <td>PASSED</td>\n",
              "      <td>1994</td>\n",
              "      <td>GB</td>\n",
              "      <td>ACTIVE</td>\n",
              "      <td>07:20.5</td>\n",
              "      <td>3/20/2018</td>\n",
              "      <td>GB||JE||IM||GG</td>\n",
              "      <td>1</td>\n",
              "      <td>f556bacd-b79f-4fdb-9d0c-e7887480c89a</td>\n",
              "    </tr>\n",
              "  </tbody>\n",
              "</table>\n",
              "</div>"
            ],
            "text/plain": [
              "    Unnamed: 0  ...                                    ID\n",
              "870        870  ...  f556bacd-b79f-4fdb-9d0c-e7887480c89a\n",
              "\n",
              "[1 rows x 11 columns]"
            ]
          },
          "metadata": {
            "tags": []
          },
          "execution_count": 61
        }
      ]
    },
    {
      "cell_type": "code",
      "metadata": {
        "id": "B7EA4LQ5vppB",
        "colab_type": "code",
        "colab": {
          "base_uri": "https://localhost:8080/",
          "height": 949
        },
        "outputId": "9dfc6b03-308d-4db6-83ca-0aedc596f9cf"
      },
      "source": [
        "users_gt1 = pd.DataFrame(columns = users.columns)\n",
        "user_id = []\n",
        "\n",
        "for i,row in transactions.iterrows():\n",
        "    currency = row[\"CURRENCY\"]\n",
        "    factor = currency_exp[currency]\n",
        "    amount = row[\"AMOUNT\"]\n",
        "    if(currency != \"USD\"):\n",
        "        rate = currency_convert[\"USD\"][currency]\n",
        "        amount = amount * rate\n",
        "    current_amount = amount / 10**factor\n",
        "    if(current_amount > 10):\n",
        "        if (row[\"TYPE\"] == \"CARD_PAYMENT\" and row[\"STATE\"] == \"COMPLETED\" and row[\"USER_ID\"] not in user_id  ):\n",
        "            users_gt1 = pd.concat([users_gt1, users[users.ID == row[\"USER_ID\"]  ] ],axis=0 )\n",
        "            user_id.append(row[\"USER_ID\"])\n",
        "users_gt1"
      ],
      "execution_count": 67,
      "outputs": [
        {
          "output_type": "execute_result",
          "data": {
            "text/html": [
              "<div>\n",
              "<style scoped>\n",
              "    .dataframe tbody tr th:only-of-type {\n",
              "        vertical-align: middle;\n",
              "    }\n",
              "\n",
              "    .dataframe tbody tr th {\n",
              "        vertical-align: top;\n",
              "    }\n",
              "\n",
              "    .dataframe thead th {\n",
              "        text-align: right;\n",
              "    }\n",
              "</style>\n",
              "<table border=\"1\" class=\"dataframe\">\n",
              "  <thead>\n",
              "    <tr style=\"text-align: right;\">\n",
              "      <th></th>\n",
              "      <th>Unnamed: 0</th>\n",
              "      <th>FAILED_SIGN_IN_ATTEMPTS</th>\n",
              "      <th>KYC</th>\n",
              "      <th>BIRTH_YEAR</th>\n",
              "      <th>COUNTRY</th>\n",
              "      <th>STATE</th>\n",
              "      <th>CREATED_DATE</th>\n",
              "      <th>TERMS_VERSION</th>\n",
              "      <th>PHONE_COUNTRY</th>\n",
              "      <th>HAS_EMAIL</th>\n",
              "      <th>ID</th>\n",
              "    </tr>\n",
              "  </thead>\n",
              "  <tbody>\n",
              "    <tr>\n",
              "      <th>7560</th>\n",
              "      <td>7560</td>\n",
              "      <td>0</td>\n",
              "      <td>PASSED</td>\n",
              "      <td>1963</td>\n",
              "      <td>GB</td>\n",
              "      <td>ACTIVE</td>\n",
              "      <td>24:41.9</td>\n",
              "      <td>9/20/2018</td>\n",
              "      <td>GB||JE||IM||GG</td>\n",
              "      <td>1</td>\n",
              "      <td>7285c1ec-31d0-4022-b311-0ad9227ef7f4</td>\n",
              "    </tr>\n",
              "    <tr>\n",
              "      <th>2503</th>\n",
              "      <td>2503</td>\n",
              "      <td>0</td>\n",
              "      <td>PASSED</td>\n",
              "      <td>1977</td>\n",
              "      <td>GB</td>\n",
              "      <td>ACTIVE</td>\n",
              "      <td>51:04.3</td>\n",
              "      <td>9/20/2018</td>\n",
              "      <td>GB||JE||IM||GG</td>\n",
              "      <td>1</td>\n",
              "      <td>0fe472c9-cf3e-4e43-90f3-a0cfb6a4f1f0</td>\n",
              "    </tr>\n",
              "    <tr>\n",
              "      <th>7594</th>\n",
              "      <td>7594</td>\n",
              "      <td>0</td>\n",
              "      <td>FAILED</td>\n",
              "      <td>1992</td>\n",
              "      <td>GB</td>\n",
              "      <td>ACTIVE</td>\n",
              "      <td>30:36.5</td>\n",
              "      <td>NaN</td>\n",
              "      <td>GB||JE||IM||GG</td>\n",
              "      <td>1</td>\n",
              "      <td>821014c5-af06-40ff-91f4-77fe7667809f</td>\n",
              "    </tr>\n",
              "    <tr>\n",
              "      <th>5897</th>\n",
              "      <td>5897</td>\n",
              "      <td>0</td>\n",
              "      <td>PASSED</td>\n",
              "      <td>1976</td>\n",
              "      <td>GB</td>\n",
              "      <td>ACTIVE</td>\n",
              "      <td>18:52.6</td>\n",
              "      <td>NaN</td>\n",
              "      <td>GB||JE||IM||GG</td>\n",
              "      <td>1</td>\n",
              "      <td>dd1f6199-127f-49ff-ba25-81393b2e66f2</td>\n",
              "    </tr>\n",
              "    <tr>\n",
              "      <th>9031</th>\n",
              "      <td>9230</td>\n",
              "      <td>0</td>\n",
              "      <td>PASSED</td>\n",
              "      <td>1988</td>\n",
              "      <td>GB</td>\n",
              "      <td>ACTIVE</td>\n",
              "      <td>38:40.7</td>\n",
              "      <td>5/25/2018</td>\n",
              "      <td>GB||JE||IM||GG</td>\n",
              "      <td>1</td>\n",
              "      <td>20100a1d-12bc-41ed-a5e1-bc46216e9696</td>\n",
              "    </tr>\n",
              "    <tr>\n",
              "      <th>...</th>\n",
              "      <td>...</td>\n",
              "      <td>...</td>\n",
              "      <td>...</td>\n",
              "      <td>...</td>\n",
              "      <td>...</td>\n",
              "      <td>...</td>\n",
              "      <td>...</td>\n",
              "      <td>...</td>\n",
              "      <td>...</td>\n",
              "      <td>...</td>\n",
              "      <td>...</td>\n",
              "    </tr>\n",
              "    <tr>\n",
              "      <th>3401</th>\n",
              "      <td>3401</td>\n",
              "      <td>0</td>\n",
              "      <td>PASSED</td>\n",
              "      <td>1963</td>\n",
              "      <td>ES</td>\n",
              "      <td>ACTIVE</td>\n",
              "      <td>45:15.3</td>\n",
              "      <td>5/25/2018</td>\n",
              "      <td>ES</td>\n",
              "      <td>1</td>\n",
              "      <td>88986a0b-1512-49e8-a530-4fce1ef2cccf</td>\n",
              "    </tr>\n",
              "    <tr>\n",
              "      <th>4073</th>\n",
              "      <td>4073</td>\n",
              "      <td>3</td>\n",
              "      <td>PASSED</td>\n",
              "      <td>1976</td>\n",
              "      <td>FR</td>\n",
              "      <td>ACTIVE</td>\n",
              "      <td>32:49.7</td>\n",
              "      <td>5/25/2018</td>\n",
              "      <td>FR</td>\n",
              "      <td>1</td>\n",
              "      <td>60cc3a7a-62e0-456b-bde9-cd07b9146031</td>\n",
              "    </tr>\n",
              "    <tr>\n",
              "      <th>5356</th>\n",
              "      <td>5356</td>\n",
              "      <td>0</td>\n",
              "      <td>PASSED</td>\n",
              "      <td>1991</td>\n",
              "      <td>IE</td>\n",
              "      <td>ACTIVE</td>\n",
              "      <td>48:00.8</td>\n",
              "      <td>9/20/2018</td>\n",
              "      <td>IE</td>\n",
              "      <td>1</td>\n",
              "      <td>b90f3260-6fc7-4583-991e-495bf025e4f3</td>\n",
              "    </tr>\n",
              "    <tr>\n",
              "      <th>5077</th>\n",
              "      <td>5077</td>\n",
              "      <td>0</td>\n",
              "      <td>PASSED</td>\n",
              "      <td>1977</td>\n",
              "      <td>GB</td>\n",
              "      <td>ACTIVE</td>\n",
              "      <td>22:54.9</td>\n",
              "      <td>9/20/2018</td>\n",
              "      <td>GB||JE||IM||GG</td>\n",
              "      <td>1</td>\n",
              "      <td>43093946-d738-4020-a844-f1da6406fcfb</td>\n",
              "    </tr>\n",
              "    <tr>\n",
              "      <th>4733</th>\n",
              "      <td>4733</td>\n",
              "      <td>0</td>\n",
              "      <td>PASSED</td>\n",
              "      <td>2000</td>\n",
              "      <td>GB</td>\n",
              "      <td>ACTIVE</td>\n",
              "      <td>45:52.2</td>\n",
              "      <td>5/25/2018</td>\n",
              "      <td>GB||JE||IM||GG</td>\n",
              "      <td>1</td>\n",
              "      <td>1b81cc41-659c-4334-808d-250fb0caea9f</td>\n",
              "    </tr>\n",
              "  </tbody>\n",
              "</table>\n",
              "<p>5097 rows × 11 columns</p>\n",
              "</div>"
            ],
            "text/plain": [
              "     Unnamed: 0  ...                                    ID\n",
              "7560       7560  ...  7285c1ec-31d0-4022-b311-0ad9227ef7f4\n",
              "2503       2503  ...  0fe472c9-cf3e-4e43-90f3-a0cfb6a4f1f0\n",
              "7594       7594  ...  821014c5-af06-40ff-91f4-77fe7667809f\n",
              "5897       5897  ...  dd1f6199-127f-49ff-ba25-81393b2e66f2\n",
              "9031       9230  ...  20100a1d-12bc-41ed-a5e1-bc46216e9696\n",
              "...         ...  ...                                   ...\n",
              "3401       3401  ...  88986a0b-1512-49e8-a530-4fce1ef2cccf\n",
              "4073       4073  ...  60cc3a7a-62e0-456b-bde9-cd07b9146031\n",
              "5356       5356  ...  b90f3260-6fc7-4583-991e-495bf025e4f3\n",
              "5077       5077  ...  43093946-d738-4020-a844-f1da6406fcfb\n",
              "4733       4733  ...  1b81cc41-659c-4334-808d-250fb0caea9f\n",
              "\n",
              "[5097 rows x 11 columns]"
            ]
          },
          "metadata": {
            "tags": []
          },
          "execution_count": 67
        }
      ]
    },
    {
      "cell_type": "code",
      "metadata": {
        "id": "Vy31MA3fezdl",
        "colab_type": "code",
        "colab": {}
      },
      "source": [
        "users_gt1.to_csv(\"Task1.csv\")"
      ],
      "execution_count": 68,
      "outputs": []
    },
    {
      "cell_type": "code",
      "metadata": {
        "id": "aqsUlzeQe1Eu",
        "colab_type": "code",
        "colab": {
          "base_uri": "https://localhost:8080/",
          "height": 122
        },
        "outputId": "070239e4-16b6-4b8d-ee5f-d471a7cfda9d"
      },
      "source": [
        "fraudsters_transactions = pd.DataFrame(columns = transactions.columns)\n",
        "\n",
        "for i,row in users_.iterrows():\n",
        "    fraudsters_transactions = pd.concat( [fraudsters_transactions, transactions[ transactions.USER_ID == row[\"ID\"] ]],axis=0)\n",
        "\n",
        "\n",
        "fraudsters_transactions[ fraudsters_transactions.is_fraudulent == '1'  ], fraudsters_transactions[fraudsters_transactions.is_fraudulent == 1]"
      ],
      "execution_count": 38,
      "outputs": [
        {
          "output_type": "execute_result",
          "data": {
            "text/plain": [
              "(Empty DataFrame\n",
              " Columns: [Unnamed: 0, CURRENCY, AMOUNT, STATE, CREATED_DATE, MERCHANT_CATEGORY, MERCHANT_COUNTRY, ENTRY_METHOD, USER_ID, TYPE, SOURCE, ID, is_fraudulent]\n",
              " Index: [], Empty DataFrame\n",
              " Columns: [Unnamed: 0, CURRENCY, AMOUNT, STATE, CREATED_DATE, MERCHANT_CATEGORY, MERCHANT_COUNTRY, ENTRY_METHOD, USER_ID, TYPE, SOURCE, ID, is_fraudulent]\n",
              " Index: [])"
            ]
          },
          "metadata": {
            "tags": []
          },
          "execution_count": 38
        }
      ]
    }
  ]
}